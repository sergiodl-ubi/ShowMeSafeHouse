{
 "cells": [
  {
   "cell_type": "code",
   "execution_count": 2,
   "id": "4e354f1b",
   "metadata": {},
   "outputs": [],
   "source": [
    "import cv2\n",
    "import onnxruntime as ort\n",
    "\n",
    "net_input_size = 416"
   ]
  },
  {
   "cell_type": "code",
   "execution_count": 1,
   "id": "4e5fac09",
   "metadata": {},
   "outputs": [],
   "source": [
    "model_dir = \"./Assets/Models\"\n",
    "model_file = f\"{model_dir}/yv5s-11c.onnx\"\n",
    "names = f\"{model_dir}/11c_names.txt\"\n",
    "camera = \"/dev/video0\"\n",
    "test_image = f\"{model_dir}/test_box.jpeg\""
   ]
  },
  {
   "cell_type": "code",
   "execution_count": 28,
   "id": "ce581da0",
   "metadata": {},
   "outputs": [
    {
     "name": "stdout",
     "output_type": "stream",
     "text": [
      "Stride: 32 | Inputs: ['images'] | Outputs: ['output']\n",
      "Labels: ['box', 'monitor,', 'refrigerator', 'microwave oven', 'television', 'door', 'bed', 'humidifier', 'printer', 'drawer', 'pc']\n"
     ]
    }
   ],
   "source": [
    "session = ort.InferenceSession(model_file)\n",
    "inputs = [x.name for x in session.get_inputs()]\n",
    "outputs = [x.name for x in session.get_outputs()]\n",
    "\n",
    "meta = session.get_modelmeta().custom_metadata_map\n",
    "stride, names = int(meta['stride']), [names[x] for x in names]\n",
    "print(f\"Stride: {stride} | Inputs: {inputs} | Outputs: {outputs}\")\n",
    "print(f\"Labels: {names}\")"
   ]
  },
  {
   "cell_type": "code",
   "execution_count": null,
   "id": "4e690da2",
   "metadata": {},
   "outputs": [],
   "source": []
  }
 ],
 "metadata": {
  "kernelspec": {
   "display_name": "Python 3 (ipykernel)",
   "language": "python",
   "name": "python3"
  },
  "language_info": {
   "codemirror_mode": {
    "name": "ipython",
    "version": 3
   },
   "file_extension": ".py",
   "mimetype": "text/x-python",
   "name": "python",
   "nbconvert_exporter": "python",
   "pygments_lexer": "ipython3",
   "version": "3.8.10"
  }
 },
 "nbformat": 4,
 "nbformat_minor": 5
}
